{
 "cells": [
  {
   "cell_type": "code",
   "execution_count": 13,
   "metadata": {},
   "outputs": [
    {
     "data": {
      "text/html": [
       "<div>\n",
       "<style scoped>\n",
       "    .dataframe tbody tr th:only-of-type {\n",
       "        vertical-align: middle;\n",
       "    }\n",
       "\n",
       "    .dataframe tbody tr th {\n",
       "        vertical-align: top;\n",
       "    }\n",
       "\n",
       "    .dataframe thead th {\n",
       "        text-align: right;\n",
       "    }\n",
       "</style>\n",
       "<table border=\"1\" class=\"dataframe\">\n",
       "  <thead>\n",
       "    <tr style=\"text-align: right;\">\n",
       "      <th></th>\n",
       "      <th>player1</th>\n",
       "      <th>player2</th>\n",
       "      <th>elapsed_time</th>\n",
       "      <th>set_no</th>\n",
       "      <th>game_no</th>\n",
       "      <th>point_no</th>\n",
       "      <th>p1_sets</th>\n",
       "      <th>p2_sets</th>\n",
       "      <th>p1_games</th>\n",
       "      <th>p2_games</th>\n",
       "      <th>p1_score</th>\n",
       "      <th>p2_score</th>\n",
       "      <th>server</th>\n",
       "      <th>serve_no</th>\n",
       "      <th>point_victor</th>\n",
       "      <th>p1_points_won</th>\n",
       "      <th>p2_points_won</th>\n",
       "      <th>game_victor</th>\n",
       "      <th>set_victor</th>\n",
       "      <th>p1_ace</th>\n",
       "      <th>p2_ace</th>\n",
       "      <th>p1_winner</th>\n",
       "      <th>p2_winner</th>\n",
       "      <th>winner_shot_type</th>\n",
       "      <th>p1_double_fault</th>\n",
       "      <th>p2_double_fault</th>\n",
       "      <th>p1_unf_err</th>\n",
       "      <th>p2_unf_err</th>\n",
       "      <th>p1_net_pt</th>\n",
       "      <th>p2_net_pt</th>\n",
       "      <th>p1_net_pt_won</th>\n",
       "      <th>p2_net_pt_won</th>\n",
       "      <th>p1_break_pt</th>\n",
       "      <th>p2_break_pt</th>\n",
       "      <th>p1_break_pt_won</th>\n",
       "      <th>p2_break_pt_won</th>\n",
       "      <th>p1_break_pt_missed</th>\n",
       "      <th>p2_break_pt_missed</th>\n",
       "      <th>p1_distance_run</th>\n",
       "      <th>p2_distance_run</th>\n",
       "      <th>rally_count</th>\n",
       "      <th>speed_mph</th>\n",
       "      <th>serve_width</th>\n",
       "      <th>serve_depth</th>\n",
       "      <th>return_depth</th>\n",
       "    </tr>\n",
       "  </thead>\n",
       "  <tbody>\n",
       "    <tr>\n",
       "      <th>0</th>\n",
       "      <td>Carlos Alcaraz</td>\n",
       "      <td>Nicolas Jarry</td>\n",
       "      <td>00:00:00</td>\n",
       "      <td>1</td>\n",
       "      <td>1</td>\n",
       "      <td>1</td>\n",
       "      <td>0</td>\n",
       "      <td>0</td>\n",
       "      <td>0</td>\n",
       "      <td>0</td>\n",
       "      <td>0</td>\n",
       "      <td>0</td>\n",
       "      <td>1</td>\n",
       "      <td>2</td>\n",
       "      <td>2</td>\n",
       "      <td>0</td>\n",
       "      <td>1</td>\n",
       "      <td>0</td>\n",
       "      <td>0</td>\n",
       "      <td>0</td>\n",
       "      <td>0</td>\n",
       "      <td>0</td>\n",
       "      <td>0</td>\n",
       "      <td>0</td>\n",
       "      <td>0</td>\n",
       "      <td>0</td>\n",
       "      <td>1</td>\n",
       "      <td>0</td>\n",
       "      <td>0</td>\n",
       "      <td>0</td>\n",
       "      <td>0</td>\n",
       "      <td>0</td>\n",
       "      <td>0</td>\n",
       "      <td>0</td>\n",
       "      <td>0</td>\n",
       "      <td>0</td>\n",
       "      <td>0</td>\n",
       "      <td>0</td>\n",
       "      <td>6.000</td>\n",
       "      <td>7.840</td>\n",
       "      <td>2</td>\n",
       "      <td>95.0</td>\n",
       "      <td>BC</td>\n",
       "      <td>NCTL</td>\n",
       "      <td>ND</td>\n",
       "    </tr>\n",
       "    <tr>\n",
       "      <th>1</th>\n",
       "      <td>Carlos Alcaraz</td>\n",
       "      <td>Nicolas Jarry</td>\n",
       "      <td>00:00:38</td>\n",
       "      <td>1</td>\n",
       "      <td>1</td>\n",
       "      <td>2</td>\n",
       "      <td>0</td>\n",
       "      <td>0</td>\n",
       "      <td>0</td>\n",
       "      <td>0</td>\n",
       "      <td>0</td>\n",
       "      <td>1</td>\n",
       "      <td>1</td>\n",
       "      <td>1</td>\n",
       "      <td>1</td>\n",
       "      <td>1</td>\n",
       "      <td>1</td>\n",
       "      <td>0</td>\n",
       "      <td>0</td>\n",
       "      <td>0</td>\n",
       "      <td>0</td>\n",
       "      <td>0</td>\n",
       "      <td>0</td>\n",
       "      <td>0</td>\n",
       "      <td>0</td>\n",
       "      <td>0</td>\n",
       "      <td>0</td>\n",
       "      <td>0</td>\n",
       "      <td>0</td>\n",
       "      <td>0</td>\n",
       "      <td>0</td>\n",
       "      <td>0</td>\n",
       "      <td>0</td>\n",
       "      <td>0</td>\n",
       "      <td>0</td>\n",
       "      <td>0</td>\n",
       "      <td>0</td>\n",
       "      <td>0</td>\n",
       "      <td>5.253</td>\n",
       "      <td>7.094</td>\n",
       "      <td>1</td>\n",
       "      <td>118.0</td>\n",
       "      <td>B</td>\n",
       "      <td>CTL</td>\n",
       "      <td>ND</td>\n",
       "    </tr>\n",
       "    <tr>\n",
       "      <th>2</th>\n",
       "      <td>Carlos Alcaraz</td>\n",
       "      <td>Nicolas Jarry</td>\n",
       "      <td>00:01:01</td>\n",
       "      <td>1</td>\n",
       "      <td>1</td>\n",
       "      <td>3</td>\n",
       "      <td>0</td>\n",
       "      <td>0</td>\n",
       "      <td>0</td>\n",
       "      <td>0</td>\n",
       "      <td>1</td>\n",
       "      <td>1</td>\n",
       "      <td>1</td>\n",
       "      <td>1</td>\n",
       "      <td>2</td>\n",
       "      <td>1</td>\n",
       "      <td>2</td>\n",
       "      <td>0</td>\n",
       "      <td>0</td>\n",
       "      <td>0</td>\n",
       "      <td>0</td>\n",
       "      <td>0</td>\n",
       "      <td>0</td>\n",
       "      <td>0</td>\n",
       "      <td>0</td>\n",
       "      <td>0</td>\n",
       "      <td>1</td>\n",
       "      <td>0</td>\n",
       "      <td>0</td>\n",
       "      <td>0</td>\n",
       "      <td>0</td>\n",
       "      <td>0</td>\n",
       "      <td>0</td>\n",
       "      <td>0</td>\n",
       "      <td>0</td>\n",
       "      <td>0</td>\n",
       "      <td>0</td>\n",
       "      <td>0</td>\n",
       "      <td>13.800</td>\n",
       "      <td>19.808</td>\n",
       "      <td>4</td>\n",
       "      <td>120.0</td>\n",
       "      <td>B</td>\n",
       "      <td>NCTL</td>\n",
       "      <td>D</td>\n",
       "    </tr>\n",
       "    <tr>\n",
       "      <th>3</th>\n",
       "      <td>Carlos Alcaraz</td>\n",
       "      <td>Nicolas Jarry</td>\n",
       "      <td>00:01:31</td>\n",
       "      <td>1</td>\n",
       "      <td>1</td>\n",
       "      <td>4</td>\n",
       "      <td>0</td>\n",
       "      <td>0</td>\n",
       "      <td>0</td>\n",
       "      <td>0</td>\n",
       "      <td>1</td>\n",
       "      <td>2</td>\n",
       "      <td>1</td>\n",
       "      <td>1</td>\n",
       "      <td>1</td>\n",
       "      <td>2</td>\n",
       "      <td>2</td>\n",
       "      <td>0</td>\n",
       "      <td>0</td>\n",
       "      <td>0</td>\n",
       "      <td>0</td>\n",
       "      <td>1</td>\n",
       "      <td>0</td>\n",
       "      <td>F</td>\n",
       "      <td>0</td>\n",
       "      <td>0</td>\n",
       "      <td>0</td>\n",
       "      <td>0</td>\n",
       "      <td>0</td>\n",
       "      <td>1</td>\n",
       "      <td>0</td>\n",
       "      <td>0</td>\n",
       "      <td>0</td>\n",
       "      <td>0</td>\n",
       "      <td>0</td>\n",
       "      <td>0</td>\n",
       "      <td>0</td>\n",
       "      <td>0</td>\n",
       "      <td>51.108</td>\n",
       "      <td>75.631</td>\n",
       "      <td>13</td>\n",
       "      <td>130.0</td>\n",
       "      <td>BW</td>\n",
       "      <td>CTL</td>\n",
       "      <td>D</td>\n",
       "    </tr>\n",
       "    <tr>\n",
       "      <th>5</th>\n",
       "      <td>Carlos Alcaraz</td>\n",
       "      <td>Nicolas Jarry</td>\n",
       "      <td>00:02:50</td>\n",
       "      <td>1</td>\n",
       "      <td>1</td>\n",
       "      <td>6</td>\n",
       "      <td>0</td>\n",
       "      <td>0</td>\n",
       "      <td>0</td>\n",
       "      <td>0</td>\n",
       "      <td>3</td>\n",
       "      <td>2</td>\n",
       "      <td>1</td>\n",
       "      <td>2</td>\n",
       "      <td>2</td>\n",
       "      <td>3</td>\n",
       "      <td>3</td>\n",
       "      <td>0</td>\n",
       "      <td>0</td>\n",
       "      <td>0</td>\n",
       "      <td>0</td>\n",
       "      <td>0</td>\n",
       "      <td>0</td>\n",
       "      <td>0</td>\n",
       "      <td>0</td>\n",
       "      <td>0</td>\n",
       "      <td>0</td>\n",
       "      <td>0</td>\n",
       "      <td>0</td>\n",
       "      <td>0</td>\n",
       "      <td>0</td>\n",
       "      <td>0</td>\n",
       "      <td>0</td>\n",
       "      <td>0</td>\n",
       "      <td>0</td>\n",
       "      <td>0</td>\n",
       "      <td>0</td>\n",
       "      <td>0</td>\n",
       "      <td>5.291</td>\n",
       "      <td>4.249</td>\n",
       "      <td>2</td>\n",
       "      <td>97.0</td>\n",
       "      <td>BW</td>\n",
       "      <td>NCTL</td>\n",
       "      <td>ND</td>\n",
       "    </tr>\n",
       "    <tr>\n",
       "      <th>...</th>\n",
       "      <td>...</td>\n",
       "      <td>...</td>\n",
       "      <td>...</td>\n",
       "      <td>...</td>\n",
       "      <td>...</td>\n",
       "      <td>...</td>\n",
       "      <td>...</td>\n",
       "      <td>...</td>\n",
       "      <td>...</td>\n",
       "      <td>...</td>\n",
       "      <td>...</td>\n",
       "      <td>...</td>\n",
       "      <td>...</td>\n",
       "      <td>...</td>\n",
       "      <td>...</td>\n",
       "      <td>...</td>\n",
       "      <td>...</td>\n",
       "      <td>...</td>\n",
       "      <td>...</td>\n",
       "      <td>...</td>\n",
       "      <td>...</td>\n",
       "      <td>...</td>\n",
       "      <td>...</td>\n",
       "      <td>...</td>\n",
       "      <td>...</td>\n",
       "      <td>...</td>\n",
       "      <td>...</td>\n",
       "      <td>...</td>\n",
       "      <td>...</td>\n",
       "      <td>...</td>\n",
       "      <td>...</td>\n",
       "      <td>...</td>\n",
       "      <td>...</td>\n",
       "      <td>...</td>\n",
       "      <td>...</td>\n",
       "      <td>...</td>\n",
       "      <td>...</td>\n",
       "      <td>...</td>\n",
       "      <td>...</td>\n",
       "      <td>...</td>\n",
       "      <td>...</td>\n",
       "      <td>...</td>\n",
       "      <td>...</td>\n",
       "      <td>...</td>\n",
       "      <td>...</td>\n",
       "    </tr>\n",
       "    <tr>\n",
       "      <th>7279</th>\n",
       "      <td>Carlos Alcaraz</td>\n",
       "      <td>Novak Djokovic</td>\n",
       "      <td>04:39:58</td>\n",
       "      <td>5</td>\n",
       "      <td>10</td>\n",
       "      <td>330</td>\n",
       "      <td>2</td>\n",
       "      <td>2</td>\n",
       "      <td>5</td>\n",
       "      <td>4</td>\n",
       "      <td>0</td>\n",
       "      <td>1</td>\n",
       "      <td>1</td>\n",
       "      <td>1</td>\n",
       "      <td>1</td>\n",
       "      <td>165</td>\n",
       "      <td>165</td>\n",
       "      <td>0</td>\n",
       "      <td>0</td>\n",
       "      <td>0</td>\n",
       "      <td>0</td>\n",
       "      <td>1</td>\n",
       "      <td>0</td>\n",
       "      <td>F</td>\n",
       "      <td>0</td>\n",
       "      <td>0</td>\n",
       "      <td>0</td>\n",
       "      <td>0</td>\n",
       "      <td>0</td>\n",
       "      <td>1</td>\n",
       "      <td>0</td>\n",
       "      <td>0</td>\n",
       "      <td>0</td>\n",
       "      <td>0</td>\n",
       "      <td>0</td>\n",
       "      <td>0</td>\n",
       "      <td>0</td>\n",
       "      <td>0</td>\n",
       "      <td>38.620</td>\n",
       "      <td>50.971</td>\n",
       "      <td>11</td>\n",
       "      <td>123.0</td>\n",
       "      <td>C</td>\n",
       "      <td>NCTL</td>\n",
       "      <td>D</td>\n",
       "    </tr>\n",
       "    <tr>\n",
       "      <th>7280</th>\n",
       "      <td>Carlos Alcaraz</td>\n",
       "      <td>Novak Djokovic</td>\n",
       "      <td>04:40:43</td>\n",
       "      <td>5</td>\n",
       "      <td>10</td>\n",
       "      <td>331</td>\n",
       "      <td>2</td>\n",
       "      <td>2</td>\n",
       "      <td>5</td>\n",
       "      <td>4</td>\n",
       "      <td>1</td>\n",
       "      <td>1</td>\n",
       "      <td>1</td>\n",
       "      <td>1</td>\n",
       "      <td>1</td>\n",
       "      <td>166</td>\n",
       "      <td>165</td>\n",
       "      <td>0</td>\n",
       "      <td>0</td>\n",
       "      <td>0</td>\n",
       "      <td>0</td>\n",
       "      <td>1</td>\n",
       "      <td>0</td>\n",
       "      <td>B</td>\n",
       "      <td>0</td>\n",
       "      <td>0</td>\n",
       "      <td>0</td>\n",
       "      <td>0</td>\n",
       "      <td>1</td>\n",
       "      <td>0</td>\n",
       "      <td>1</td>\n",
       "      <td>0</td>\n",
       "      <td>0</td>\n",
       "      <td>0</td>\n",
       "      <td>0</td>\n",
       "      <td>0</td>\n",
       "      <td>0</td>\n",
       "      <td>0</td>\n",
       "      <td>17.533</td>\n",
       "      <td>27.766</td>\n",
       "      <td>5</td>\n",
       "      <td>114.0</td>\n",
       "      <td>W</td>\n",
       "      <td>NCTL</td>\n",
       "      <td>ND</td>\n",
       "    </tr>\n",
       "    <tr>\n",
       "      <th>7281</th>\n",
       "      <td>Carlos Alcaraz</td>\n",
       "      <td>Novak Djokovic</td>\n",
       "      <td>04:41:20</td>\n",
       "      <td>5</td>\n",
       "      <td>10</td>\n",
       "      <td>332</td>\n",
       "      <td>2</td>\n",
       "      <td>2</td>\n",
       "      <td>5</td>\n",
       "      <td>4</td>\n",
       "      <td>2</td>\n",
       "      <td>1</td>\n",
       "      <td>1</td>\n",
       "      <td>1</td>\n",
       "      <td>2</td>\n",
       "      <td>166</td>\n",
       "      <td>166</td>\n",
       "      <td>0</td>\n",
       "      <td>0</td>\n",
       "      <td>0</td>\n",
       "      <td>0</td>\n",
       "      <td>0</td>\n",
       "      <td>1</td>\n",
       "      <td>F</td>\n",
       "      <td>0</td>\n",
       "      <td>0</td>\n",
       "      <td>0</td>\n",
       "      <td>0</td>\n",
       "      <td>0</td>\n",
       "      <td>0</td>\n",
       "      <td>0</td>\n",
       "      <td>0</td>\n",
       "      <td>0</td>\n",
       "      <td>0</td>\n",
       "      <td>0</td>\n",
       "      <td>0</td>\n",
       "      <td>0</td>\n",
       "      <td>0</td>\n",
       "      <td>10.882</td>\n",
       "      <td>18.328</td>\n",
       "      <td>4</td>\n",
       "      <td>124.0</td>\n",
       "      <td>W</td>\n",
       "      <td>NCTL</td>\n",
       "      <td>D</td>\n",
       "    </tr>\n",
       "    <tr>\n",
       "      <th>7282</th>\n",
       "      <td>Carlos Alcaraz</td>\n",
       "      <td>Novak Djokovic</td>\n",
       "      <td>04:41:52</td>\n",
       "      <td>5</td>\n",
       "      <td>10</td>\n",
       "      <td>333</td>\n",
       "      <td>2</td>\n",
       "      <td>2</td>\n",
       "      <td>5</td>\n",
       "      <td>4</td>\n",
       "      <td>2</td>\n",
       "      <td>2</td>\n",
       "      <td>1</td>\n",
       "      <td>1</td>\n",
       "      <td>1</td>\n",
       "      <td>167</td>\n",
       "      <td>166</td>\n",
       "      <td>0</td>\n",
       "      <td>0</td>\n",
       "      <td>0</td>\n",
       "      <td>0</td>\n",
       "      <td>0</td>\n",
       "      <td>0</td>\n",
       "      <td>0</td>\n",
       "      <td>0</td>\n",
       "      <td>0</td>\n",
       "      <td>0</td>\n",
       "      <td>0</td>\n",
       "      <td>0</td>\n",
       "      <td>0</td>\n",
       "      <td>0</td>\n",
       "      <td>0</td>\n",
       "      <td>0</td>\n",
       "      <td>0</td>\n",
       "      <td>0</td>\n",
       "      <td>0</td>\n",
       "      <td>0</td>\n",
       "      <td>0</td>\n",
       "      <td>7.893</td>\n",
       "      <td>10.537</td>\n",
       "      <td>1</td>\n",
       "      <td>130.0</td>\n",
       "      <td>C</td>\n",
       "      <td>NCTL</td>\n",
       "      <td>D</td>\n",
       "    </tr>\n",
       "    <tr>\n",
       "      <th>7283</th>\n",
       "      <td>Carlos Alcaraz</td>\n",
       "      <td>Novak Djokovic</td>\n",
       "      <td>04:42:27</td>\n",
       "      <td>5</td>\n",
       "      <td>10</td>\n",
       "      <td>334</td>\n",
       "      <td>2</td>\n",
       "      <td>2</td>\n",
       "      <td>5</td>\n",
       "      <td>4</td>\n",
       "      <td>3</td>\n",
       "      <td>2</td>\n",
       "      <td>1</td>\n",
       "      <td>1</td>\n",
       "      <td>1</td>\n",
       "      <td>168</td>\n",
       "      <td>166</td>\n",
       "      <td>1</td>\n",
       "      <td>1</td>\n",
       "      <td>0</td>\n",
       "      <td>0</td>\n",
       "      <td>0</td>\n",
       "      <td>0</td>\n",
       "      <td>0</td>\n",
       "      <td>0</td>\n",
       "      <td>0</td>\n",
       "      <td>0</td>\n",
       "      <td>0</td>\n",
       "      <td>1</td>\n",
       "      <td>0</td>\n",
       "      <td>1</td>\n",
       "      <td>0</td>\n",
       "      <td>0</td>\n",
       "      <td>0</td>\n",
       "      <td>0</td>\n",
       "      <td>0</td>\n",
       "      <td>0</td>\n",
       "      <td>0</td>\n",
       "      <td>17.811</td>\n",
       "      <td>25.367</td>\n",
       "      <td>3</td>\n",
       "      <td>129.0</td>\n",
       "      <td>BW</td>\n",
       "      <td>NCTL</td>\n",
       "      <td>ND</td>\n",
       "    </tr>\n",
       "  </tbody>\n",
       "</table>\n",
       "<p>5463 rows × 45 columns</p>\n",
       "</div>"
      ],
      "text/plain": [
       "             player1         player2 elapsed_time  set_no  game_no  point_no  \\\n",
       "0     Carlos Alcaraz   Nicolas Jarry     00:00:00       1        1         1   \n",
       "1     Carlos Alcaraz   Nicolas Jarry     00:00:38       1        1         2   \n",
       "2     Carlos Alcaraz   Nicolas Jarry     00:01:01       1        1         3   \n",
       "3     Carlos Alcaraz   Nicolas Jarry     00:01:31       1        1         4   \n",
       "5     Carlos Alcaraz   Nicolas Jarry     00:02:50       1        1         6   \n",
       "...              ...             ...          ...     ...      ...       ...   \n",
       "7279  Carlos Alcaraz  Novak Djokovic     04:39:58       5       10       330   \n",
       "7280  Carlos Alcaraz  Novak Djokovic     04:40:43       5       10       331   \n",
       "7281  Carlos Alcaraz  Novak Djokovic     04:41:20       5       10       332   \n",
       "7282  Carlos Alcaraz  Novak Djokovic     04:41:52       5       10       333   \n",
       "7283  Carlos Alcaraz  Novak Djokovic     04:42:27       5       10       334   \n",
       "\n",
       "      p1_sets  p2_sets  p1_games  p2_games  p1_score  p2_score  server  \\\n",
       "0           0        0         0         0         0         0       1   \n",
       "1           0        0         0         0         0         1       1   \n",
       "2           0        0         0         0         1         1       1   \n",
       "3           0        0         0         0         1         2       1   \n",
       "5           0        0         0         0         3         2       1   \n",
       "...       ...      ...       ...       ...       ...       ...     ...   \n",
       "7279        2        2         5         4         0         1       1   \n",
       "7280        2        2         5         4         1         1       1   \n",
       "7281        2        2         5         4         2         1       1   \n",
       "7282        2        2         5         4         2         2       1   \n",
       "7283        2        2         5         4         3         2       1   \n",
       "\n",
       "      serve_no  point_victor  p1_points_won  p2_points_won  game_victor  \\\n",
       "0            2             2              0              1            0   \n",
       "1            1             1              1              1            0   \n",
       "2            1             2              1              2            0   \n",
       "3            1             1              2              2            0   \n",
       "5            2             2              3              3            0   \n",
       "...        ...           ...            ...            ...          ...   \n",
       "7279         1             1            165            165            0   \n",
       "7280         1             1            166            165            0   \n",
       "7281         1             2            166            166            0   \n",
       "7282         1             1            167            166            0   \n",
       "7283         1             1            168            166            1   \n",
       "\n",
       "      set_victor  p1_ace  p2_ace  p1_winner  p2_winner winner_shot_type  \\\n",
       "0              0       0       0          0          0                0   \n",
       "1              0       0       0          0          0                0   \n",
       "2              0       0       0          0          0                0   \n",
       "3              0       0       0          1          0                F   \n",
       "5              0       0       0          0          0                0   \n",
       "...          ...     ...     ...        ...        ...              ...   \n",
       "7279           0       0       0          1          0                F   \n",
       "7280           0       0       0          1          0                B   \n",
       "7281           0       0       0          0          1                F   \n",
       "7282           0       0       0          0          0                0   \n",
       "7283           1       0       0          0          0                0   \n",
       "\n",
       "      p1_double_fault  p2_double_fault  p1_unf_err  p2_unf_err  p1_net_pt  \\\n",
       "0                   0                0           1           0          0   \n",
       "1                   0                0           0           0          0   \n",
       "2                   0                0           1           0          0   \n",
       "3                   0                0           0           0          0   \n",
       "5                   0                0           0           0          0   \n",
       "...               ...              ...         ...         ...        ...   \n",
       "7279                0                0           0           0          0   \n",
       "7280                0                0           0           0          1   \n",
       "7281                0                0           0           0          0   \n",
       "7282                0                0           0           0          0   \n",
       "7283                0                0           0           0          1   \n",
       "\n",
       "      p2_net_pt  p1_net_pt_won  p2_net_pt_won  p1_break_pt  p2_break_pt  \\\n",
       "0             0              0              0            0            0   \n",
       "1             0              0              0            0            0   \n",
       "2             0              0              0            0            0   \n",
       "3             1              0              0            0            0   \n",
       "5             0              0              0            0            0   \n",
       "...         ...            ...            ...          ...          ...   \n",
       "7279          1              0              0            0            0   \n",
       "7280          0              1              0            0            0   \n",
       "7281          0              0              0            0            0   \n",
       "7282          0              0              0            0            0   \n",
       "7283          0              1              0            0            0   \n",
       "\n",
       "      p1_break_pt_won  p2_break_pt_won  p1_break_pt_missed  \\\n",
       "0                   0                0                   0   \n",
       "1                   0                0                   0   \n",
       "2                   0                0                   0   \n",
       "3                   0                0                   0   \n",
       "5                   0                0                   0   \n",
       "...               ...              ...                 ...   \n",
       "7279                0                0                   0   \n",
       "7280                0                0                   0   \n",
       "7281                0                0                   0   \n",
       "7282                0                0                   0   \n",
       "7283                0                0                   0   \n",
       "\n",
       "      p2_break_pt_missed  p1_distance_run  p2_distance_run  rally_count  \\\n",
       "0                      0            6.000            7.840            2   \n",
       "1                      0            5.253            7.094            1   \n",
       "2                      0           13.800           19.808            4   \n",
       "3                      0           51.108           75.631           13   \n",
       "5                      0            5.291            4.249            2   \n",
       "...                  ...              ...              ...          ...   \n",
       "7279                   0           38.620           50.971           11   \n",
       "7280                   0           17.533           27.766            5   \n",
       "7281                   0           10.882           18.328            4   \n",
       "7282                   0            7.893           10.537            1   \n",
       "7283                   0           17.811           25.367            3   \n",
       "\n",
       "      speed_mph serve_width serve_depth return_depth  \n",
       "0          95.0          BC        NCTL           ND  \n",
       "1         118.0           B         CTL           ND  \n",
       "2         120.0           B        NCTL            D  \n",
       "3         130.0          BW         CTL            D  \n",
       "5          97.0          BW        NCTL           ND  \n",
       "...         ...         ...         ...          ...  \n",
       "7279      123.0           C        NCTL            D  \n",
       "7280      114.0           W        NCTL           ND  \n",
       "7281      124.0           W        NCTL            D  \n",
       "7282      130.0           C        NCTL            D  \n",
       "7283      129.0          BW        NCTL           ND  \n",
       "\n",
       "[5463 rows x 45 columns]"
      ]
     },
     "execution_count": 13,
     "metadata": {},
     "output_type": "execute_result"
    }
   ],
   "source": [
    "import pandas as pd\n",
    "pd.set_option('display.max_columns', None)\n",
    "# 读取数据并量化\n",
    "df = pd.read_csv ('/Users/lycoris/Desktop/other/github/MCM2024/Data/Wimbledon_featured_matches.csv')\n",
    "for i, score in enumerate(['15', '30', '40', 'AD']):\n",
    "    df.loc[(df.p1_score== score) , 'p1_score'] = i + 1\n",
    "    df.loc[(df.p2_score== score) , 'p2_score'] = i + 1\n",
    "df[ 'p1_score' ] = df['p1_score' ].astype(int)\n",
    "df[ 'p2_score' ] = df['p2_score'].astype(int)\n",
    "df = df.drop([\"match_id\", 'player1', 'player2', \"serve_width\", \"serve_depth\",\"return_depth\"], axis=1)\n",
    "df.dropna(inplace=True)\n",
    "df"
   ]
  },
  {
   "cell_type": "code",
   "execution_count": 2,
   "metadata": {},
   "outputs": [],
   "source": [
    "# 提取所需特证\n",
    "x1_ls,x2_ls,x3_ls,x4_ls,x5_ls,x6_ls,x7_ls,x8_ls,x9_ls,x10_ls,\\\n",
    "x12_ls,x13_ls,x14_ls,x15_ls,x16_ls=[],[],[],[],[],[],[],[],[],[],[],[],[],[],[]\n",
    "label_ls = []\n",
    "label = 0\n",
    "\n",
    "for match_id,set_no,game_no,point_no in zip(df.match_id, df.set_no, df.game_no, df.point_no):\n",
    "    match = df[df.match_id == match_id]\n",
    "    set_ = match[ match.set_no == set_no]\n",
    "    game_ = set_[set_.game_no == game_no]\n",
    "    point_ = game_[game_.point_no == point_no]\n",
    "\n",
    "    # 如果x>0，则对p1有利，如果x<0，则对p2有利\n",
    "    x1 = point_[ 'p1_games' ].values[0]-point_[ 'p2_games' ].values[0] # p1局领先进度\n",
    "    x2 = point_[ 'p1_score' ].values[0]- point_[ 'p2_score' ].values[0] # p1小分领先进度\n",
    "    x3 = 1 if point_[ 'serve_no' ].values[0] == 1 else 0 # p1是否发球\n",
    "    x4 = 1 if label==1 else 0 # p1上一小分是否得到\n",
    "    x5 = point_[ 'p1_sets' ].values[0] - point_[ 'p2_sets' ].values[0] # p1盘领先进度\n",
    "    # p1连胜局数\n",
    "    x6 = 1 if 1 in game_['p1_ace'].values else 0\n",
    "    x7 = 1 if 1 in game_['p1_winner'].values else 0\n",
    "    x8 = 1 if 1 in game_['p1_double_fault'].values else 0\n",
    "    x9 = 1 if 1 in game_['p1_unf_err'].values else 0\n",
    "    x10 = game_[ 'p1_net_pt_won' ]. sum()/game_[ 'p1_net_pt' ].sum() if game_[ 'p1_net_pt' ].sum() != 0 else 0\n",
    "\n",
    "    index = match.index.tolist( ).index(point_.index.tolist()[0])\n",
    "    x12 = match.iloc [ : index+1][ 'p1_distance_run' ].sum()\n",
    "    x13 = match.iloc [ index-2 :index+1][ 'p1_distance_run' ].sum()\n",
    "    x14 = point_[ 'p1_distance_run' ].values[0]\n",
    "    x15 = point_[ 'speed_mph' ].values[0]\n",
    "    x16 = x15 * x3\n",
    "\n",
    "    label = 1 if point_[ 'point_victor' ].values[0] == 1 else 0\n",
    "    label_ls.append(label)\n",
    "    x1_ls.append(x1)\n",
    "    x2_ls.append(x2)\n",
    "    x3_ls.append(x3)\n",
    "    x4_ls.append(x4)\n",
    "    x5_ls.append(x5)\n",
    "    x6_ls.append(x6)\n",
    "    x7_ls.append(x7)\n",
    "    x8_ls.append(x8)\n",
    "    x9_ls.append(x9)\n",
    "    x10_ls.append(x10)\n",
    "    x12_ls.append(x12)\n",
    "    x13_ls.append(x13)\n",
    "    x14_ls.append(x14)\n",
    "    x15_ls.append(x15)\n",
    "    x16_ls.append(x16)\n",
    "\n",
    "\n",
    "dataset = pd.DataFrame({'x1': x1_ls, 'x2': x2_ls, 'x3': x3_ls, 'x4': x4_ls, 'x5': x5_ls, 'x6': x6_ls, 'x7': x7_ls, 'x8': x8_ls, 'x9': x9_ls, 'x10': x10_ls, 'x12': x12_ls, 'x13': x13_ls, 'x14': x14_ls, 'x15': x15_ls, 'x16': x16_ls,\n",
    "                       'label': label_ls})\n",
    "dataset.to_csv('/Users/lycoris/Desktop/other/github/MCM2024/Data/Dataset.csv')"
   ]
  },
  {
   "cell_type": "code",
   "execution_count": 3,
   "metadata": {},
   "outputs": [
    {
     "data": {
      "text/html": [
       "<div>\n",
       "<style scoped>\n",
       "    .dataframe tbody tr th:only-of-type {\n",
       "        vertical-align: middle;\n",
       "    }\n",
       "\n",
       "    .dataframe tbody tr th {\n",
       "        vertical-align: top;\n",
       "    }\n",
       "\n",
       "    .dataframe thead th {\n",
       "        text-align: right;\n",
       "    }\n",
       "</style>\n",
       "<table border=\"1\" class=\"dataframe\">\n",
       "  <thead>\n",
       "    <tr style=\"text-align: right;\">\n",
       "      <th></th>\n",
       "      <th>x1</th>\n",
       "      <th>x2</th>\n",
       "      <th>x3</th>\n",
       "      <th>x4</th>\n",
       "      <th>x5</th>\n",
       "      <th>x6</th>\n",
       "      <th>x7</th>\n",
       "      <th>x8</th>\n",
       "      <th>x9</th>\n",
       "      <th>x10</th>\n",
       "      <th>x12</th>\n",
       "      <th>x13</th>\n",
       "      <th>x14</th>\n",
       "      <th>x15</th>\n",
       "      <th>x16</th>\n",
       "      <th>label</th>\n",
       "    </tr>\n",
       "  </thead>\n",
       "  <tbody>\n",
       "    <tr>\n",
       "      <th>0</th>\n",
       "      <td>0.555556</td>\n",
       "      <td>0.5</td>\n",
       "      <td>0.0</td>\n",
       "      <td>0.0</td>\n",
       "      <td>0.5</td>\n",
       "      <td>1.0</td>\n",
       "      <td>1.0</td>\n",
       "      <td>0.0</td>\n",
       "      <td>1.0</td>\n",
       "      <td>1.0</td>\n",
       "      <td>0.000499</td>\n",
       "      <td>0.000000</td>\n",
       "      <td>0.032636</td>\n",
       "      <td>0.333333</td>\n",
       "      <td>0.000000</td>\n",
       "      <td>0</td>\n",
       "    </tr>\n",
       "    <tr>\n",
       "      <th>1</th>\n",
       "      <td>0.555556</td>\n",
       "      <td>0.4</td>\n",
       "      <td>1.0</td>\n",
       "      <td>0.0</td>\n",
       "      <td>0.5</td>\n",
       "      <td>1.0</td>\n",
       "      <td>1.0</td>\n",
       "      <td>0.0</td>\n",
       "      <td>1.0</td>\n",
       "      <td>1.0</td>\n",
       "      <td>0.001334</td>\n",
       "      <td>0.000000</td>\n",
       "      <td>0.027573</td>\n",
       "      <td>0.666667</td>\n",
       "      <td>0.836879</td>\n",
       "      <td>1</td>\n",
       "    </tr>\n",
       "    <tr>\n",
       "      <th>2</th>\n",
       "      <td>0.555556</td>\n",
       "      <td>0.5</td>\n",
       "      <td>1.0</td>\n",
       "      <td>1.0</td>\n",
       "      <td>0.5</td>\n",
       "      <td>1.0</td>\n",
       "      <td>1.0</td>\n",
       "      <td>0.0</td>\n",
       "      <td>1.0</td>\n",
       "      <td>1.0</td>\n",
       "      <td>0.003525</td>\n",
       "      <td>0.129442</td>\n",
       "      <td>0.085503</td>\n",
       "      <td>0.695652</td>\n",
       "      <td>0.851064</td>\n",
       "      <td>0</td>\n",
       "    </tr>\n",
       "    <tr>\n",
       "      <th>3</th>\n",
       "      <td>0.555556</td>\n",
       "      <td>0.4</td>\n",
       "      <td>1.0</td>\n",
       "      <td>0.0</td>\n",
       "      <td>0.5</td>\n",
       "      <td>1.0</td>\n",
       "      <td>1.0</td>\n",
       "      <td>0.0</td>\n",
       "      <td>1.0</td>\n",
       "      <td>1.0</td>\n",
       "      <td>0.011639</td>\n",
       "      <td>0.362503</td>\n",
       "      <td>0.338374</td>\n",
       "      <td>0.840580</td>\n",
       "      <td>0.921986</td>\n",
       "      <td>1</td>\n",
       "    </tr>\n",
       "    <tr>\n",
       "      <th>4</th>\n",
       "      <td>0.555556</td>\n",
       "      <td>0.6</td>\n",
       "      <td>0.0</td>\n",
       "      <td>1.0</td>\n",
       "      <td>0.5</td>\n",
       "      <td>1.0</td>\n",
       "      <td>1.0</td>\n",
       "      <td>0.0</td>\n",
       "      <td>1.0</td>\n",
       "      <td>1.0</td>\n",
       "      <td>0.012479</td>\n",
       "      <td>0.362699</td>\n",
       "      <td>0.027830</td>\n",
       "      <td>0.362319</td>\n",
       "      <td>0.000000</td>\n",
       "      <td>0</td>\n",
       "    </tr>\n",
       "    <tr>\n",
       "      <th>...</th>\n",
       "      <td>...</td>\n",
       "      <td>...</td>\n",
       "      <td>...</td>\n",
       "      <td>...</td>\n",
       "      <td>...</td>\n",
       "      <td>...</td>\n",
       "      <td>...</td>\n",
       "      <td>...</td>\n",
       "      <td>...</td>\n",
       "      <td>...</td>\n",
       "      <td>...</td>\n",
       "      <td>...</td>\n",
       "      <td>...</td>\n",
       "      <td>...</td>\n",
       "      <td>...</td>\n",
       "      <td>...</td>\n",
       "    </tr>\n",
       "    <tr>\n",
       "      <th>5458</th>\n",
       "      <td>0.666667</td>\n",
       "      <td>0.4</td>\n",
       "      <td>1.0</td>\n",
       "      <td>0.0</td>\n",
       "      <td>0.5</td>\n",
       "      <td>0.0</td>\n",
       "      <td>1.0</td>\n",
       "      <td>0.0</td>\n",
       "      <td>1.0</td>\n",
       "      <td>1.0</td>\n",
       "      <td>0.991408</td>\n",
       "      <td>0.255970</td>\n",
       "      <td>0.253731</td>\n",
       "      <td>0.739130</td>\n",
       "      <td>0.872340</td>\n",
       "      <td>1</td>\n",
       "    </tr>\n",
       "    <tr>\n",
       "      <th>5459</th>\n",
       "      <td>0.666667</td>\n",
       "      <td>0.5</td>\n",
       "      <td>1.0</td>\n",
       "      <td>1.0</td>\n",
       "      <td>0.5</td>\n",
       "      <td>0.0</td>\n",
       "      <td>1.0</td>\n",
       "      <td>0.0</td>\n",
       "      <td>1.0</td>\n",
       "      <td>1.0</td>\n",
       "      <td>0.994191</td>\n",
       "      <td>0.325117</td>\n",
       "      <td>0.110805</td>\n",
       "      <td>0.608696</td>\n",
       "      <td>0.808511</td>\n",
       "      <td>1</td>\n",
       "    </tr>\n",
       "    <tr>\n",
       "      <th>5460</th>\n",
       "      <td>0.666667</td>\n",
       "      <td>0.6</td>\n",
       "      <td>1.0</td>\n",
       "      <td>1.0</td>\n",
       "      <td>0.5</td>\n",
       "      <td>0.0</td>\n",
       "      <td>1.0</td>\n",
       "      <td>0.0</td>\n",
       "      <td>1.0</td>\n",
       "      <td>1.0</td>\n",
       "      <td>0.995919</td>\n",
       "      <td>0.346352</td>\n",
       "      <td>0.065725</td>\n",
       "      <td>0.753623</td>\n",
       "      <td>0.879433</td>\n",
       "      <td>0</td>\n",
       "    </tr>\n",
       "    <tr>\n",
       "      <th>5461</th>\n",
       "      <td>0.666667</td>\n",
       "      <td>0.5</td>\n",
       "      <td>1.0</td>\n",
       "      <td>0.0</td>\n",
       "      <td>0.5</td>\n",
       "      <td>0.0</td>\n",
       "      <td>1.0</td>\n",
       "      <td>0.0</td>\n",
       "      <td>1.0</td>\n",
       "      <td>1.0</td>\n",
       "      <td>0.997172</td>\n",
       "      <td>0.187594</td>\n",
       "      <td>0.045466</td>\n",
       "      <td>0.840580</td>\n",
       "      <td>0.921986</td>\n",
       "      <td>1</td>\n",
       "    </tr>\n",
       "    <tr>\n",
       "      <th>5462</th>\n",
       "      <td>0.666667</td>\n",
       "      <td>0.6</td>\n",
       "      <td>1.0</td>\n",
       "      <td>1.0</td>\n",
       "      <td>0.5</td>\n",
       "      <td>0.0</td>\n",
       "      <td>1.0</td>\n",
       "      <td>0.0</td>\n",
       "      <td>1.0</td>\n",
       "      <td>1.0</td>\n",
       "      <td>1.000000</td>\n",
       "      <td>0.189030</td>\n",
       "      <td>0.112690</td>\n",
       "      <td>0.826087</td>\n",
       "      <td>0.914894</td>\n",
       "      <td>1</td>\n",
       "    </tr>\n",
       "  </tbody>\n",
       "</table>\n",
       "<p>5463 rows × 16 columns</p>\n",
       "</div>"
      ],
      "text/plain": [
       "            x1   x2   x3   x4   x5   x6   x7   x8   x9  x10       x12  \\\n",
       "0     0.555556  0.5  0.0  0.0  0.5  1.0  1.0  0.0  1.0  1.0  0.000499   \n",
       "1     0.555556  0.4  1.0  0.0  0.5  1.0  1.0  0.0  1.0  1.0  0.001334   \n",
       "2     0.555556  0.5  1.0  1.0  0.5  1.0  1.0  0.0  1.0  1.0  0.003525   \n",
       "3     0.555556  0.4  1.0  0.0  0.5  1.0  1.0  0.0  1.0  1.0  0.011639   \n",
       "4     0.555556  0.6  0.0  1.0  0.5  1.0  1.0  0.0  1.0  1.0  0.012479   \n",
       "...        ...  ...  ...  ...  ...  ...  ...  ...  ...  ...       ...   \n",
       "5458  0.666667  0.4  1.0  0.0  0.5  0.0  1.0  0.0  1.0  1.0  0.991408   \n",
       "5459  0.666667  0.5  1.0  1.0  0.5  0.0  1.0  0.0  1.0  1.0  0.994191   \n",
       "5460  0.666667  0.6  1.0  1.0  0.5  0.0  1.0  0.0  1.0  1.0  0.995919   \n",
       "5461  0.666667  0.5  1.0  0.0  0.5  0.0  1.0  0.0  1.0  1.0  0.997172   \n",
       "5462  0.666667  0.6  1.0  1.0  0.5  0.0  1.0  0.0  1.0  1.0  1.000000   \n",
       "\n",
       "           x13       x14       x15       x16  label  \n",
       "0     0.000000  0.032636  0.333333  0.000000      0  \n",
       "1     0.000000  0.027573  0.666667  0.836879      1  \n",
       "2     0.129442  0.085503  0.695652  0.851064      0  \n",
       "3     0.362503  0.338374  0.840580  0.921986      1  \n",
       "4     0.362699  0.027830  0.362319  0.000000      0  \n",
       "...        ...       ...       ...       ...    ...  \n",
       "5458  0.255970  0.253731  0.739130  0.872340      1  \n",
       "5459  0.325117  0.110805  0.608696  0.808511      1  \n",
       "5460  0.346352  0.065725  0.753623  0.879433      0  \n",
       "5461  0.187594  0.045466  0.840580  0.921986      1  \n",
       "5462  0.189030  0.112690  0.826087  0.914894      1  \n",
       "\n",
       "[5463 rows x 16 columns]"
      ]
     },
     "execution_count": 3,
     "metadata": {},
     "output_type": "execute_result"
    }
   ],
   "source": [
    "# 归一化数据\n",
    "from sklearn.preprocessing import MinMaxScaler\n",
    "scaler = MinMaxScaler()\n",
    "cols = dataset.columns[:-1]\n",
    "scaler.fit(dataset[cols].values)\n",
    "dataset[cols] = scaler.transform(dataset[cols].values)\n",
    "dataset.to_csv('/Users/lycoris/Desktop/other/github/MCM2024/Data/ScaledDataset.csv')\n",
    "dataset"
   ]
  },
  {
   "cell_type": "markdown",
   "metadata": {},
   "source": [
    "* 划分数据集"
   ]
  },
  {
   "cell_type": "code",
   "execution_count": 4,
   "metadata": {},
   "outputs": [],
   "source": [
    "# 划分并保存数据\n",
    "training_DS_size = int(.8 * len(dataset))\n",
    "training_Dataset = dataset[:training_DS_size]\n",
    "training_Dataset.to_csv('/Users/lycoris/Desktop/other/github/MCM2024/Data/trainingDataset.csv')\n",
    "testing_Dataset = dataset[training_DS_size:]\n",
    "testing_Dataset.to_csv('/Users/lycoris/Desktop/other/github/MCM2024/Data/testingDataset.csv')"
   ]
  },
  {
   "cell_type": "markdown",
   "metadata": {},
   "source": [
    "* 建立模型"
   ]
  },
  {
   "cell_type": "code",
   "execution_count": 5,
   "metadata": {},
   "outputs": [],
   "source": [
    "import numpy as np\n",
    "import torch.utils.data as Data\n",
    "from torchvision import transforms\n",
    "from torch import nn\n",
    "# train_loader = Data.DataLoader(dataset=training_Dataset, batch_size=64)\n",
    "# test_loader = Data.DataLoader(dataset=testing_Dataset, batch_size=64, shuffle=True, num_workers=2)"
   ]
  },
  {
   "cell_type": "code",
   "execution_count": 6,
   "metadata": {},
   "outputs": [],
   "source": [
    "# 模型定义\n",
    "class LSTMModel(nn.Module):\n",
    "    def __init__(self):\n",
    "        super().__init__()\n",
    "        self.lstm = nn.LSTM(input_size=15, hidden_size=16, num_layers=1, batch_first=True)\n",
    "        self.fc = nn.Linear(16, 2)\n",
    "\n",
    "    def forward(self, x):\n",
    "        x, _ = self.lstm(x)\n",
    "        x = x[:, -1, :]\n",
    "        x = self.fc(x)\n",
    "        return x"
   ]
  },
  {
   "cell_type": "code",
   "execution_count": 7,
   "metadata": {},
   "outputs": [
    {
     "name": "stdout",
     "output_type": "stream",
     "text": [
      "torch.Size([5463, 2])\n",
      "torch.Size([5463])\n"
     ]
    }
   ],
   "source": [
    "import torch\n",
    "from torch.utils.data import DataLoader\n",
    "import torch.utils.data as Data\n",
    "# 提取特征和标签\n",
    "features = dataset.iloc[:, :-1].to_numpy()\n",
    "labels = dataset.iloc[:, -1].to_numpy()\n",
    "\n",
    "# 将标签转换为 one-hot 编码\n",
    "labels = torch.nn.functional.one_hot(torch.from_numpy(labels), num_classes=2)\n",
    "print(labels.shape)\n",
    "labels = labels[:, 0]\n",
    "print(labels.shape)\n",
    "\n",
    "# 数据分割\n",
    "size = (int(0.6 * len(labels)), int(0.2 * len(labels)), len(labels) - int(0.6 * len(labels)) -  int(0.2 * len(labels)))\n",
    "train_data_label, val_data_label, test_data_label = labels.split(size)\n",
    "train_data_features, val_data_features, test_data_features = torch.from_numpy(features).split(size)\n",
    "\n",
    "# 建立dataloader\n",
    "train_xt = train_data_features.float()\n",
    "train_yt = train_data_label.float()\n",
    "train_data = Data.TensorDataset(train_xt, train_yt)\n",
    "train_dataloader = Data.DataLoader(dataset=train_data ,batch_size=4, shuffle=True, num_workers=1, drop_last=False)\n",
    "\n",
    "val_xt = val_data_features.float()\n",
    "val_yt = val_data_label.float()\n",
    "val_data = Data.TensorDataset(val_xt, val_yt)\n",
    "val_dataloader = Data.DataLoader(dataset=val_data ,batch_size=4, shuffle=True, num_workers=1, drop_last=False)\n",
    "\n",
    "test_xt = test_data_features.float()\n",
    "test_yt = test_data_label.float()\n",
    "test_data = Data.TensorDataset(test_xt, test_yt)\n",
    "test_dataloader = Data.DataLoader(dataset=test_data ,batch_size=4, shuffle=True, num_workers=1, drop_last=False)\n",
    "\n",
    "# 建立模型\n",
    "model = LSTMModel()\n",
    "\n",
    "# 定义损失函数和优化器\n",
    "criterion = nn.CrossEntropyLoss()\n",
    "optimizer = torch.optim.Adam(model.parameters(), lr=0.001)"
   ]
  },
  {
   "cell_type": "code",
   "execution_count": 8,
   "metadata": {},
   "outputs": [
    {
     "name": "stdout",
     "output_type": "stream",
     "text": [
      "torch.Size([3277, 15])\n",
      "torch.Size([3277, 15])\n",
      "torch.Size([3277])\n",
      "<torch.utils.data.dataset.TensorDataset object at 0x7fdd858a49a0>\n"
     ]
    },
    {
     "data": {
      "text/plain": [
       "LSTMModel(\n",
       "  (lstm): LSTM(15, 16, batch_first=True)\n",
       "  (fc): Linear(in_features=16, out_features=2, bias=True)\n",
       ")"
      ]
     },
     "execution_count": 8,
     "metadata": {},
     "output_type": "execute_result"
    }
   ],
   "source": [
    "print(train_data_features.shape)\n",
    "print(train_xt.shape)\n",
    "print(train_yt.shape)\n",
    "print(train_data)\n",
    "model\n"
   ]
  },
  {
   "cell_type": "code",
   "execution_count": 11,
   "metadata": {},
   "outputs": [
    {
     "name": "stderr",
     "output_type": "stream",
     "text": [
      "100%|██████████| 820/820 [00:03<00:00, 214.71it/s]\n",
      "100%|██████████| 273/273 [00:01<00:00, 136.78it/s]\n"
     ]
    },
    {
     "name": "stdout",
     "output_type": "stream",
     "text": [
      "Epoch: 0, Loss: 0.5156656503677368, Accuracy: 0.5\n"
     ]
    },
    {
     "name": "stderr",
     "output_type": "stream",
     "text": [
      "100%|██████████| 820/820 [00:03<00:00, 237.64it/s]\n",
      "100%|██████████| 273/273 [00:01<00:00, 139.60it/s]\n"
     ]
    },
    {
     "name": "stdout",
     "output_type": "stream",
     "text": [
      "Epoch: 1, Loss: 0.4881666302680969, Accuracy: 1.0\n"
     ]
    },
    {
     "name": "stderr",
     "output_type": "stream",
     "text": [
      "100%|██████████| 820/820 [00:03<00:00, 253.81it/s]\n",
      "100%|██████████| 273/273 [00:02<00:00, 133.30it/s]\n"
     ]
    },
    {
     "name": "stdout",
     "output_type": "stream",
     "text": [
      "Epoch: 2, Loss: 0.6109699606895447, Accuracy: 0.5\n"
     ]
    },
    {
     "name": "stderr",
     "output_type": "stream",
     "text": [
      "100%|██████████| 820/820 [00:04<00:00, 187.44it/s]\n",
      "100%|██████████| 273/273 [00:02<00:00, 114.94it/s]\n"
     ]
    },
    {
     "name": "stdout",
     "output_type": "stream",
     "text": [
      "Epoch: 3, Loss: 0.6680248975753784, Accuracy: 0.5\n"
     ]
    },
    {
     "name": "stderr",
     "output_type": "stream",
     "text": [
      "100%|██████████| 820/820 [00:03<00:00, 214.71it/s]\n",
      "100%|██████████| 273/273 [00:01<00:00, 139.26it/s]\n"
     ]
    },
    {
     "name": "stdout",
     "output_type": "stream",
     "text": [
      "Epoch: 4, Loss: 0.6517610549926758, Accuracy: 0.75\n"
     ]
    },
    {
     "name": "stderr",
     "output_type": "stream",
     "text": [
      "100%|██████████| 820/820 [00:03<00:00, 257.38it/s]\n",
      "100%|██████████| 273/273 [00:01<00:00, 139.20it/s]\n"
     ]
    },
    {
     "name": "stdout",
     "output_type": "stream",
     "text": [
      "Epoch: 5, Loss: 0.5149567127227783, Accuracy: 0.75\n"
     ]
    },
    {
     "name": "stderr",
     "output_type": "stream",
     "text": [
      "100%|██████████| 820/820 [00:03<00:00, 249.84it/s]\n",
      "100%|██████████| 273/273 [00:01<00:00, 137.22it/s]\n"
     ]
    },
    {
     "name": "stdout",
     "output_type": "stream",
     "text": [
      "Epoch: 6, Loss: 0.7005748152732849, Accuracy: 0.75\n"
     ]
    },
    {
     "name": "stderr",
     "output_type": "stream",
     "text": [
      "100%|██████████| 820/820 [00:03<00:00, 257.67it/s]\n",
      "100%|██████████| 273/273 [00:01<00:00, 139.20it/s]\n"
     ]
    },
    {
     "name": "stdout",
     "output_type": "stream",
     "text": [
      "Epoch: 7, Loss: 0.5611823797225952, Accuracy: 0.75\n"
     ]
    },
    {
     "name": "stderr",
     "output_type": "stream",
     "text": [
      "100%|██████████| 820/820 [00:03<00:00, 259.56it/s]\n",
      "100%|██████████| 273/273 [00:01<00:00, 139.26it/s]\n"
     ]
    },
    {
     "name": "stdout",
     "output_type": "stream",
     "text": [
      "Epoch: 8, Loss: 0.7206943035125732, Accuracy: 0.25\n"
     ]
    },
    {
     "name": "stderr",
     "output_type": "stream",
     "text": [
      "100%|██████████| 820/820 [00:03<00:00, 244.74it/s]\n",
      "100%|██████████| 273/273 [00:01<00:00, 138.81it/s]\n"
     ]
    },
    {
     "name": "stdout",
     "output_type": "stream",
     "text": [
      "Epoch: 9, Loss: 0.5064338445663452, Accuracy: 0.75\n"
     ]
    },
    {
     "name": "stderr",
     "output_type": "stream",
     "text": [
      "100%|██████████| 820/820 [00:03<00:00, 253.13it/s]\n",
      "100%|██████████| 273/273 [00:01<00:00, 138.39it/s]\n"
     ]
    },
    {
     "name": "stdout",
     "output_type": "stream",
     "text": [
      "Epoch: 10, Loss: 0.47547048330307007, Accuracy: 0.75\n"
     ]
    },
    {
     "name": "stderr",
     "output_type": "stream",
     "text": [
      "100%|██████████| 820/820 [00:03<00:00, 254.37it/s]\n",
      "100%|██████████| 273/273 [00:01<00:00, 139.74it/s]\n"
     ]
    },
    {
     "name": "stdout",
     "output_type": "stream",
     "text": [
      "Epoch: 11, Loss: 0.25001537799835205, Accuracy: 1.0\n"
     ]
    },
    {
     "name": "stderr",
     "output_type": "stream",
     "text": [
      "100%|██████████| 820/820 [00:03<00:00, 256.58it/s]\n",
      "100%|██████████| 273/273 [00:01<00:00, 140.31it/s]\n"
     ]
    },
    {
     "name": "stdout",
     "output_type": "stream",
     "text": [
      "Epoch: 12, Loss: 0.7812170386314392, Accuracy: 0.25\n"
     ]
    },
    {
     "name": "stderr",
     "output_type": "stream",
     "text": [
      "100%|██████████| 820/820 [00:03<00:00, 261.27it/s]\n",
      "100%|██████████| 273/273 [00:01<00:00, 139.37it/s]\n"
     ]
    },
    {
     "name": "stdout",
     "output_type": "stream",
     "text": [
      "Epoch: 13, Loss: 0.50833660364151, Accuracy: 0.75\n"
     ]
    },
    {
     "name": "stderr",
     "output_type": "stream",
     "text": [
      "100%|██████████| 820/820 [00:03<00:00, 243.35it/s]\n",
      "100%|██████████| 273/273 [00:01<00:00, 138.03it/s]\n"
     ]
    },
    {
     "name": "stdout",
     "output_type": "stream",
     "text": [
      "Epoch: 14, Loss: 0.9525407552719116, Accuracy: 0.5\n"
     ]
    },
    {
     "name": "stderr",
     "output_type": "stream",
     "text": [
      "100%|██████████| 820/820 [00:03<00:00, 259.48it/s]\n",
      "100%|██████████| 273/273 [00:01<00:00, 139.59it/s]\n"
     ]
    },
    {
     "name": "stdout",
     "output_type": "stream",
     "text": [
      "Epoch: 15, Loss: 0.5662859678268433, Accuracy: 0.5\n"
     ]
    },
    {
     "name": "stderr",
     "output_type": "stream",
     "text": [
      "100%|██████████| 820/820 [00:03<00:00, 252.55it/s]\n",
      "100%|██████████| 273/273 [00:02<00:00, 135.54it/s]\n"
     ]
    },
    {
     "name": "stdout",
     "output_type": "stream",
     "text": [
      "Epoch: 16, Loss: 0.6774753332138062, Accuracy: 0.5\n"
     ]
    },
    {
     "name": "stderr",
     "output_type": "stream",
     "text": [
      "100%|██████████| 820/820 [00:03<00:00, 229.19it/s]\n",
      "100%|██████████| 273/273 [00:01<00:00, 137.14it/s]\n"
     ]
    },
    {
     "name": "stdout",
     "output_type": "stream",
     "text": [
      "Epoch: 17, Loss: 0.4403422474861145, Accuracy: 1.0\n"
     ]
    },
    {
     "name": "stderr",
     "output_type": "stream",
     "text": [
      "100%|██████████| 820/820 [00:03<00:00, 243.41it/s]\n",
      "100%|██████████| 273/273 [00:02<00:00, 133.04it/s]\n"
     ]
    },
    {
     "name": "stdout",
     "output_type": "stream",
     "text": [
      "Epoch: 18, Loss: 0.5958549976348877, Accuracy: 0.5\n"
     ]
    },
    {
     "name": "stderr",
     "output_type": "stream",
     "text": [
      "100%|██████████| 820/820 [00:03<00:00, 238.82it/s]\n",
      "100%|██████████| 273/273 [00:01<00:00, 138.63it/s]\n"
     ]
    },
    {
     "name": "stdout",
     "output_type": "stream",
     "text": [
      "Epoch: 19, Loss: 0.44508975744247437, Accuracy: 0.75\n"
     ]
    },
    {
     "name": "stderr",
     "output_type": "stream",
     "text": [
      "100%|██████████| 820/820 [00:03<00:00, 256.63it/s]\n",
      "100%|██████████| 273/273 [00:01<00:00, 138.07it/s]\n"
     ]
    },
    {
     "name": "stdout",
     "output_type": "stream",
     "text": [
      "Epoch: 20, Loss: 0.7654774188995361, Accuracy: 0.5\n"
     ]
    },
    {
     "name": "stderr",
     "output_type": "stream",
     "text": [
      "100%|██████████| 820/820 [00:03<00:00, 242.83it/s]\n",
      "100%|██████████| 273/273 [00:02<00:00, 136.13it/s]\n"
     ]
    },
    {
     "name": "stdout",
     "output_type": "stream",
     "text": [
      "Epoch: 21, Loss: 0.9052947163581848, Accuracy: 0.5\n"
     ]
    },
    {
     "name": "stderr",
     "output_type": "stream",
     "text": [
      "100%|██████████| 820/820 [00:03<00:00, 242.55it/s]\n",
      "100%|██████████| 273/273 [00:01<00:00, 138.72it/s]\n"
     ]
    },
    {
     "name": "stdout",
     "output_type": "stream",
     "text": [
      "Epoch: 22, Loss: 0.9984692335128784, Accuracy: 0.5\n"
     ]
    },
    {
     "name": "stderr",
     "output_type": "stream",
     "text": [
      "100%|██████████| 820/820 [00:03<00:00, 254.51it/s]\n",
      "100%|██████████| 273/273 [00:01<00:00, 138.39it/s]\n"
     ]
    },
    {
     "name": "stdout",
     "output_type": "stream",
     "text": [
      "Epoch: 23, Loss: 0.8468552827835083, Accuracy: 0.5\n"
     ]
    },
    {
     "name": "stderr",
     "output_type": "stream",
     "text": [
      "100%|██████████| 820/820 [00:03<00:00, 221.74it/s]\n",
      "100%|██████████| 273/273 [00:03<00:00, 85.97it/s] \n"
     ]
    },
    {
     "name": "stdout",
     "output_type": "stream",
     "text": [
      "Epoch: 24, Loss: 0.4729648530483246, Accuracy: 0.75\n"
     ]
    },
    {
     "name": "stderr",
     "output_type": "stream",
     "text": [
      "100%|██████████| 820/820 [00:04<00:00, 181.14it/s]\n",
      "100%|██████████| 273/273 [00:02<00:00, 128.58it/s]\n"
     ]
    },
    {
     "name": "stdout",
     "output_type": "stream",
     "text": [
      "Epoch: 25, Loss: 0.3734748065471649, Accuracy: 1.0\n"
     ]
    },
    {
     "name": "stderr",
     "output_type": "stream",
     "text": [
      "100%|██████████| 820/820 [00:03<00:00, 214.36it/s]\n",
      "100%|██████████| 273/273 [00:01<00:00, 137.00it/s]\n"
     ]
    },
    {
     "name": "stdout",
     "output_type": "stream",
     "text": [
      "Epoch: 26, Loss: 0.7840303182601929, Accuracy: 0.5\n"
     ]
    },
    {
     "name": "stderr",
     "output_type": "stream",
     "text": [
      "100%|██████████| 820/820 [00:04<00:00, 204.87it/s]\n",
      "100%|██████████| 273/273 [00:01<00:00, 136.61it/s]\n"
     ]
    },
    {
     "name": "stdout",
     "output_type": "stream",
     "text": [
      "Epoch: 27, Loss: 0.6123007535934448, Accuracy: 0.75\n"
     ]
    },
    {
     "name": "stderr",
     "output_type": "stream",
     "text": [
      "100%|██████████| 820/820 [00:03<00:00, 219.05it/s]\n",
      "100%|██████████| 273/273 [00:02<00:00, 135.48it/s]\n"
     ]
    },
    {
     "name": "stdout",
     "output_type": "stream",
     "text": [
      "Epoch: 28, Loss: 0.6787866353988647, Accuracy: 0.75\n"
     ]
    },
    {
     "name": "stderr",
     "output_type": "stream",
     "text": [
      "100%|██████████| 820/820 [00:04<00:00, 204.27it/s]\n",
      "100%|██████████| 273/273 [00:02<00:00, 133.96it/s]\n"
     ]
    },
    {
     "name": "stdout",
     "output_type": "stream",
     "text": [
      "Epoch: 29, Loss: 0.5041929483413696, Accuracy: 1.0\n"
     ]
    },
    {
     "name": "stderr",
     "output_type": "stream",
     "text": [
      "100%|██████████| 820/820 [00:06<00:00, 128.38it/s]\n",
      "100%|██████████| 273/273 [00:02<00:00, 121.44it/s]\n"
     ]
    },
    {
     "name": "stdout",
     "output_type": "stream",
     "text": [
      "Epoch: 30, Loss: 0.7648283243179321, Accuracy: 0.5\n"
     ]
    },
    {
     "name": "stderr",
     "output_type": "stream",
     "text": [
      "100%|██████████| 820/820 [00:03<00:00, 245.68it/s]\n",
      "100%|██████████| 273/273 [00:03<00:00, 72.03it/s] \n"
     ]
    },
    {
     "name": "stdout",
     "output_type": "stream",
     "text": [
      "Epoch: 31, Loss: 0.5145862698554993, Accuracy: 0.75\n"
     ]
    },
    {
     "name": "stderr",
     "output_type": "stream",
     "text": [
      "100%|██████████| 820/820 [00:04<00:00, 194.34it/s]\n",
      "100%|██████████| 273/273 [00:02<00:00, 133.91it/s]\n"
     ]
    },
    {
     "name": "stdout",
     "output_type": "stream",
     "text": [
      "Epoch: 32, Loss: 0.585108757019043, Accuracy: 0.5\n"
     ]
    },
    {
     "name": "stderr",
     "output_type": "stream",
     "text": [
      "100%|██████████| 820/820 [00:03<00:00, 211.77it/s]\n",
      "100%|██████████| 273/273 [00:01<00:00, 137.30it/s]\n"
     ]
    },
    {
     "name": "stdout",
     "output_type": "stream",
     "text": [
      "Epoch: 33, Loss: 0.4223211705684662, Accuracy: 1.0\n"
     ]
    },
    {
     "name": "stderr",
     "output_type": "stream",
     "text": [
      "100%|██████████| 820/820 [00:03<00:00, 208.48it/s]\n",
      "100%|██████████| 273/273 [00:02<00:00, 112.23it/s]\n"
     ]
    },
    {
     "name": "stdout",
     "output_type": "stream",
     "text": [
      "Epoch: 34, Loss: 0.7830365300178528, Accuracy: 0.5\n"
     ]
    },
    {
     "name": "stderr",
     "output_type": "stream",
     "text": [
      "100%|██████████| 820/820 [00:05<00:00, 159.52it/s]\n",
      "100%|██████████| 273/273 [00:02<00:00, 135.91it/s]\n"
     ]
    },
    {
     "name": "stdout",
     "output_type": "stream",
     "text": [
      "Epoch: 35, Loss: 0.5954385995864868, Accuracy: 0.75\n"
     ]
    },
    {
     "name": "stderr",
     "output_type": "stream",
     "text": [
      "100%|██████████| 820/820 [00:03<00:00, 212.94it/s]\n",
      "100%|██████████| 273/273 [00:01<00:00, 136.79it/s]\n"
     ]
    },
    {
     "name": "stdout",
     "output_type": "stream",
     "text": [
      "Epoch: 36, Loss: 0.9884085059165955, Accuracy: 0.25\n"
     ]
    },
    {
     "name": "stderr",
     "output_type": "stream",
     "text": [
      "100%|██████████| 820/820 [00:03<00:00, 217.11it/s]\n",
      "100%|██████████| 273/273 [00:01<00:00, 136.71it/s]\n"
     ]
    },
    {
     "name": "stdout",
     "output_type": "stream",
     "text": [
      "Epoch: 37, Loss: 0.7831048965454102, Accuracy: 0.5\n"
     ]
    },
    {
     "name": "stderr",
     "output_type": "stream",
     "text": [
      "100%|██████████| 820/820 [00:03<00:00, 227.56it/s]\n",
      "100%|██████████| 273/273 [00:02<00:00, 110.57it/s]\n"
     ]
    },
    {
     "name": "stdout",
     "output_type": "stream",
     "text": [
      "Epoch: 38, Loss: 0.5290502905845642, Accuracy: 0.5\n"
     ]
    },
    {
     "name": "stderr",
     "output_type": "stream",
     "text": [
      "100%|██████████| 820/820 [00:03<00:00, 206.08it/s]\n",
      "100%|██████████| 273/273 [00:01<00:00, 137.49it/s]\n"
     ]
    },
    {
     "name": "stdout",
     "output_type": "stream",
     "text": [
      "Epoch: 39, Loss: 0.42666181921958923, Accuracy: 1.0\n"
     ]
    },
    {
     "name": "stderr",
     "output_type": "stream",
     "text": [
      "100%|██████████| 820/820 [00:03<00:00, 219.85it/s]\n",
      "100%|██████████| 273/273 [00:02<00:00, 136.19it/s]\n"
     ]
    },
    {
     "name": "stdout",
     "output_type": "stream",
     "text": [
      "Epoch: 40, Loss: 0.5599794983863831, Accuracy: 0.75\n"
     ]
    },
    {
     "name": "stderr",
     "output_type": "stream",
     "text": [
      "100%|██████████| 820/820 [00:03<00:00, 222.44it/s]\n",
      "100%|██████████| 273/273 [00:01<00:00, 137.23it/s]\n"
     ]
    },
    {
     "name": "stdout",
     "output_type": "stream",
     "text": [
      "Epoch: 41, Loss: 0.4919044077396393, Accuracy: 0.75\n"
     ]
    },
    {
     "name": "stderr",
     "output_type": "stream",
     "text": [
      "100%|██████████| 820/820 [00:03<00:00, 223.88it/s]\n",
      "100%|██████████| 273/273 [00:01<00:00, 136.64it/s]\n"
     ]
    },
    {
     "name": "stdout",
     "output_type": "stream",
     "text": [
      "Epoch: 42, Loss: 0.44044315814971924, Accuracy: 0.75\n"
     ]
    },
    {
     "name": "stderr",
     "output_type": "stream",
     "text": [
      "100%|██████████| 820/820 [00:03<00:00, 242.76it/s]\n",
      "100%|██████████| 273/273 [00:01<00:00, 137.65it/s]\n"
     ]
    },
    {
     "name": "stdout",
     "output_type": "stream",
     "text": [
      "Epoch: 43, Loss: 0.576744556427002, Accuracy: 0.75\n"
     ]
    },
    {
     "name": "stderr",
     "output_type": "stream",
     "text": [
      "100%|██████████| 820/820 [00:03<00:00, 234.37it/s]\n",
      "100%|██████████| 273/273 [00:01<00:00, 138.33it/s]\n"
     ]
    },
    {
     "name": "stdout",
     "output_type": "stream",
     "text": [
      "Epoch: 44, Loss: 0.8838528990745544, Accuracy: 0.5\n"
     ]
    },
    {
     "name": "stderr",
     "output_type": "stream",
     "text": [
      "100%|██████████| 820/820 [00:03<00:00, 244.75it/s]\n",
      "100%|██████████| 273/273 [00:01<00:00, 139.51it/s]\n"
     ]
    },
    {
     "name": "stdout",
     "output_type": "stream",
     "text": [
      "Epoch: 45, Loss: 0.8283061981201172, Accuracy: 0.25\n"
     ]
    },
    {
     "name": "stderr",
     "output_type": "stream",
     "text": [
      "100%|██████████| 820/820 [00:03<00:00, 232.42it/s]\n",
      "100%|██████████| 273/273 [00:01<00:00, 139.16it/s]\n"
     ]
    },
    {
     "name": "stdout",
     "output_type": "stream",
     "text": [
      "Epoch: 46, Loss: 0.5019361972808838, Accuracy: 0.75\n"
     ]
    },
    {
     "name": "stderr",
     "output_type": "stream",
     "text": [
      "100%|██████████| 820/820 [00:03<00:00, 253.29it/s]\n",
      "100%|██████████| 273/273 [00:01<00:00, 139.73it/s]\n"
     ]
    },
    {
     "name": "stdout",
     "output_type": "stream",
     "text": [
      "Epoch: 47, Loss: 0.6923670768737793, Accuracy: 0.5\n"
     ]
    },
    {
     "name": "stderr",
     "output_type": "stream",
     "text": [
      "100%|██████████| 820/820 [00:03<00:00, 227.46it/s]\n",
      "100%|██████████| 273/273 [00:01<00:00, 140.09it/s]\n"
     ]
    },
    {
     "name": "stdout",
     "output_type": "stream",
     "text": [
      "Epoch: 48, Loss: 0.3791816234588623, Accuracy: 1.0\n"
     ]
    },
    {
     "name": "stderr",
     "output_type": "stream",
     "text": [
      "100%|██████████| 820/820 [00:03<00:00, 238.10it/s]\n",
      "100%|██████████| 273/273 [00:01<00:00, 138.95it/s]\n"
     ]
    },
    {
     "name": "stdout",
     "output_type": "stream",
     "text": [
      "Epoch: 49, Loss: 0.8885141611099243, Accuracy: 0.25\n"
     ]
    },
    {
     "name": "stderr",
     "output_type": "stream",
     "text": [
      "100%|██████████| 820/820 [00:03<00:00, 250.61it/s]\n",
      "100%|██████████| 273/273 [00:01<00:00, 138.99it/s]\n"
     ]
    },
    {
     "name": "stdout",
     "output_type": "stream",
     "text": [
      "Epoch: 50, Loss: 0.4056224226951599, Accuracy: 1.0\n"
     ]
    },
    {
     "name": "stderr",
     "output_type": "stream",
     "text": [
      "100%|██████████| 820/820 [00:03<00:00, 247.29it/s]\n",
      "100%|██████████| 273/273 [00:01<00:00, 140.14it/s]\n"
     ]
    },
    {
     "name": "stdout",
     "output_type": "stream",
     "text": [
      "Epoch: 51, Loss: 0.6082547903060913, Accuracy: 0.75\n"
     ]
    },
    {
     "name": "stderr",
     "output_type": "stream",
     "text": [
      "100%|██████████| 820/820 [00:03<00:00, 236.33it/s]\n",
      "100%|██████████| 273/273 [00:01<00:00, 139.77it/s]\n"
     ]
    },
    {
     "name": "stdout",
     "output_type": "stream",
     "text": [
      "Epoch: 52, Loss: 0.5674604177474976, Accuracy: 0.75\n"
     ]
    },
    {
     "name": "stderr",
     "output_type": "stream",
     "text": [
      "100%|██████████| 820/820 [00:03<00:00, 250.74it/s]\n",
      "100%|██████████| 273/273 [00:01<00:00, 139.70it/s]\n"
     ]
    },
    {
     "name": "stdout",
     "output_type": "stream",
     "text": [
      "Epoch: 53, Loss: 0.5697877407073975, Accuracy: 1.0\n"
     ]
    },
    {
     "name": "stderr",
     "output_type": "stream",
     "text": [
      "100%|██████████| 820/820 [00:03<00:00, 231.52it/s]\n",
      "100%|██████████| 273/273 [00:01<00:00, 137.73it/s]\n"
     ]
    },
    {
     "name": "stdout",
     "output_type": "stream",
     "text": [
      "Epoch: 54, Loss: 0.4885140061378479, Accuracy: 0.75\n"
     ]
    },
    {
     "name": "stderr",
     "output_type": "stream",
     "text": [
      "100%|██████████| 820/820 [00:03<00:00, 245.16it/s]\n",
      "100%|██████████| 273/273 [00:01<00:00, 138.95it/s]\n"
     ]
    },
    {
     "name": "stdout",
     "output_type": "stream",
     "text": [
      "Epoch: 55, Loss: 0.5457853674888611, Accuracy: 0.5\n"
     ]
    },
    {
     "name": "stderr",
     "output_type": "stream",
     "text": [
      "100%|██████████| 820/820 [00:03<00:00, 223.16it/s]\n",
      "100%|██████████| 273/273 [00:02<00:00, 133.46it/s]\n"
     ]
    },
    {
     "name": "stdout",
     "output_type": "stream",
     "text": [
      "Epoch: 56, Loss: 0.3123389184474945, Accuracy: 1.0\n"
     ]
    },
    {
     "name": "stderr",
     "output_type": "stream",
     "text": [
      "100%|██████████| 820/820 [00:03<00:00, 214.96it/s]\n",
      "100%|██████████| 273/273 [00:01<00:00, 138.97it/s]\n"
     ]
    },
    {
     "name": "stdout",
     "output_type": "stream",
     "text": [
      "Epoch: 57, Loss: 0.8905116319656372, Accuracy: 0.5\n"
     ]
    },
    {
     "name": "stderr",
     "output_type": "stream",
     "text": [
      "100%|██████████| 820/820 [00:03<00:00, 246.96it/s]\n",
      "100%|██████████| 273/273 [00:01<00:00, 139.63it/s]\n"
     ]
    },
    {
     "name": "stdout",
     "output_type": "stream",
     "text": [
      "Epoch: 58, Loss: 0.6255066394805908, Accuracy: 0.75\n"
     ]
    },
    {
     "name": "stderr",
     "output_type": "stream",
     "text": [
      "100%|██████████| 820/820 [00:03<00:00, 216.18it/s]\n",
      "100%|██████████| 273/273 [00:02<00:00, 130.25it/s]\n"
     ]
    },
    {
     "name": "stdout",
     "output_type": "stream",
     "text": [
      "Epoch: 59, Loss: 0.6131168603897095, Accuracy: 0.5\n"
     ]
    },
    {
     "name": "stderr",
     "output_type": "stream",
     "text": [
      "100%|██████████| 820/820 [00:03<00:00, 230.03it/s]\n",
      "100%|██████████| 273/273 [00:01<00:00, 138.34it/s]\n"
     ]
    },
    {
     "name": "stdout",
     "output_type": "stream",
     "text": [
      "Epoch: 60, Loss: 0.7077073454856873, Accuracy: 0.75\n"
     ]
    },
    {
     "name": "stderr",
     "output_type": "stream",
     "text": [
      "100%|██████████| 820/820 [00:03<00:00, 242.92it/s]\n",
      "100%|██████████| 273/273 [00:01<00:00, 139.24it/s]\n"
     ]
    },
    {
     "name": "stdout",
     "output_type": "stream",
     "text": [
      "Epoch: 61, Loss: 0.4822349548339844, Accuracy: 0.75\n"
     ]
    },
    {
     "name": "stderr",
     "output_type": "stream",
     "text": [
      "100%|██████████| 820/820 [00:03<00:00, 250.12it/s]\n",
      "100%|██████████| 273/273 [00:01<00:00, 137.85it/s]\n"
     ]
    },
    {
     "name": "stdout",
     "output_type": "stream",
     "text": [
      "Epoch: 62, Loss: 0.44826096296310425, Accuracy: 1.0\n"
     ]
    },
    {
     "name": "stderr",
     "output_type": "stream",
     "text": [
      "100%|██████████| 820/820 [00:03<00:00, 241.91it/s]\n",
      "100%|██████████| 273/273 [00:01<00:00, 138.82it/s]\n"
     ]
    },
    {
     "name": "stdout",
     "output_type": "stream",
     "text": [
      "Epoch: 63, Loss: 0.5749497413635254, Accuracy: 0.75\n"
     ]
    },
    {
     "name": "stderr",
     "output_type": "stream",
     "text": [
      "100%|██████████| 820/820 [00:03<00:00, 242.74it/s]\n",
      "100%|██████████| 273/273 [00:01<00:00, 138.41it/s]\n"
     ]
    },
    {
     "name": "stdout",
     "output_type": "stream",
     "text": [
      "Epoch: 64, Loss: 0.2789000868797302, Accuracy: 1.0\n"
     ]
    },
    {
     "name": "stderr",
     "output_type": "stream",
     "text": [
      "100%|██████████| 820/820 [00:03<00:00, 225.75it/s]\n",
      "100%|██████████| 273/273 [00:02<00:00, 128.94it/s]\n"
     ]
    },
    {
     "name": "stdout",
     "output_type": "stream",
     "text": [
      "Epoch: 65, Loss: 0.46487030386924744, Accuracy: 1.0\n"
     ]
    },
    {
     "name": "stderr",
     "output_type": "stream",
     "text": [
      "100%|██████████| 820/820 [00:04<00:00, 201.71it/s]\n",
      "100%|██████████| 273/273 [00:01<00:00, 139.78it/s]\n"
     ]
    },
    {
     "name": "stdout",
     "output_type": "stream",
     "text": [
      "Epoch: 66, Loss: 0.575949490070343, Accuracy: 0.75\n"
     ]
    },
    {
     "name": "stderr",
     "output_type": "stream",
     "text": [
      "100%|██████████| 820/820 [00:03<00:00, 245.45it/s]\n",
      "100%|██████████| 273/273 [00:01<00:00, 140.32it/s]\n"
     ]
    },
    {
     "name": "stdout",
     "output_type": "stream",
     "text": [
      "Epoch: 67, Loss: 0.5941001176834106, Accuracy: 0.75\n"
     ]
    },
    {
     "name": "stderr",
     "output_type": "stream",
     "text": [
      "100%|██████████| 820/820 [00:03<00:00, 246.16it/s]\n",
      "100%|██████████| 273/273 [00:01<00:00, 139.08it/s]\n"
     ]
    },
    {
     "name": "stdout",
     "output_type": "stream",
     "text": [
      "Epoch: 68, Loss: 0.8128262758255005, Accuracy: 0.25\n"
     ]
    },
    {
     "name": "stderr",
     "output_type": "stream",
     "text": [
      "100%|██████████| 820/820 [00:03<00:00, 252.67it/s]\n",
      "100%|██████████| 273/273 [00:01<00:00, 138.60it/s]\n"
     ]
    },
    {
     "name": "stdout",
     "output_type": "stream",
     "text": [
      "Epoch: 69, Loss: 0.6934247612953186, Accuracy: 0.75\n"
     ]
    },
    {
     "name": "stderr",
     "output_type": "stream",
     "text": [
      "100%|██████████| 820/820 [00:03<00:00, 235.11it/s]\n",
      "100%|██████████| 273/273 [00:01<00:00, 139.94it/s]\n"
     ]
    },
    {
     "name": "stdout",
     "output_type": "stream",
     "text": [
      "Epoch: 70, Loss: 0.4462388753890991, Accuracy: 0.75\n"
     ]
    },
    {
     "name": "stderr",
     "output_type": "stream",
     "text": [
      "100%|██████████| 820/820 [00:03<00:00, 244.46it/s]\n",
      "100%|██████████| 273/273 [00:01<00:00, 139.52it/s]\n"
     ]
    },
    {
     "name": "stdout",
     "output_type": "stream",
     "text": [
      "Epoch: 71, Loss: 0.6562712788581848, Accuracy: 0.75\n"
     ]
    },
    {
     "name": "stderr",
     "output_type": "stream",
     "text": [
      "100%|██████████| 820/820 [00:03<00:00, 248.29it/s]\n",
      "100%|██████████| 273/273 [00:01<00:00, 139.03it/s]\n"
     ]
    },
    {
     "name": "stdout",
     "output_type": "stream",
     "text": [
      "Epoch: 72, Loss: 0.6608009338378906, Accuracy: 0.5\n"
     ]
    },
    {
     "name": "stderr",
     "output_type": "stream",
     "text": [
      "100%|██████████| 820/820 [00:03<00:00, 236.31it/s]\n",
      "100%|██████████| 273/273 [00:01<00:00, 139.05it/s]\n"
     ]
    },
    {
     "name": "stdout",
     "output_type": "stream",
     "text": [
      "Epoch: 73, Loss: 0.5030955672264099, Accuracy: 1.0\n"
     ]
    },
    {
     "name": "stderr",
     "output_type": "stream",
     "text": [
      "100%|██████████| 820/820 [00:03<00:00, 244.86it/s]\n",
      "100%|██████████| 273/273 [00:01<00:00, 137.52it/s]\n"
     ]
    },
    {
     "name": "stdout",
     "output_type": "stream",
     "text": [
      "Epoch: 74, Loss: 0.5551871061325073, Accuracy: 0.75\n"
     ]
    },
    {
     "name": "stderr",
     "output_type": "stream",
     "text": [
      "100%|██████████| 820/820 [00:03<00:00, 246.50it/s]\n",
      "100%|██████████| 273/273 [00:01<00:00, 139.84it/s]\n"
     ]
    },
    {
     "name": "stdout",
     "output_type": "stream",
     "text": [
      "Epoch: 75, Loss: 0.5224226713180542, Accuracy: 1.0\n"
     ]
    },
    {
     "name": "stderr",
     "output_type": "stream",
     "text": [
      "100%|██████████| 820/820 [00:03<00:00, 243.35it/s]\n",
      "100%|██████████| 273/273 [00:01<00:00, 138.80it/s]\n"
     ]
    },
    {
     "name": "stdout",
     "output_type": "stream",
     "text": [
      "Epoch: 76, Loss: 0.4371948540210724, Accuracy: 0.75\n"
     ]
    },
    {
     "name": "stderr",
     "output_type": "stream",
     "text": [
      "100%|██████████| 820/820 [00:03<00:00, 239.16it/s]\n",
      "100%|██████████| 273/273 [00:01<00:00, 136.60it/s]\n"
     ]
    },
    {
     "name": "stdout",
     "output_type": "stream",
     "text": [
      "Epoch: 77, Loss: 0.5797328352928162, Accuracy: 0.75\n"
     ]
    },
    {
     "name": "stderr",
     "output_type": "stream",
     "text": [
      "100%|██████████| 820/820 [00:03<00:00, 243.34it/s]\n",
      "100%|██████████| 273/273 [00:01<00:00, 139.55it/s]\n"
     ]
    },
    {
     "name": "stdout",
     "output_type": "stream",
     "text": [
      "Epoch: 78, Loss: 0.4592816233634949, Accuracy: 0.75\n"
     ]
    },
    {
     "name": "stderr",
     "output_type": "stream",
     "text": [
      "100%|██████████| 820/820 [00:03<00:00, 247.06it/s]\n",
      "100%|██████████| 273/273 [00:01<00:00, 140.02it/s]\n"
     ]
    },
    {
     "name": "stdout",
     "output_type": "stream",
     "text": [
      "Epoch: 79, Loss: 0.7434546947479248, Accuracy: 0.5\n"
     ]
    },
    {
     "name": "stderr",
     "output_type": "stream",
     "text": [
      "100%|██████████| 820/820 [00:03<00:00, 238.82it/s]\n",
      "100%|██████████| 273/273 [00:01<00:00, 139.31it/s]\n"
     ]
    },
    {
     "name": "stdout",
     "output_type": "stream",
     "text": [
      "Epoch: 80, Loss: 0.5850902795791626, Accuracy: 0.5\n"
     ]
    },
    {
     "name": "stderr",
     "output_type": "stream",
     "text": [
      "100%|██████████| 820/820 [00:03<00:00, 243.86it/s]\n",
      "100%|██████████| 273/273 [00:01<00:00, 139.57it/s]\n"
     ]
    },
    {
     "name": "stdout",
     "output_type": "stream",
     "text": [
      "Epoch: 81, Loss: 0.7677299976348877, Accuracy: 0.5\n"
     ]
    },
    {
     "name": "stderr",
     "output_type": "stream",
     "text": [
      "100%|██████████| 820/820 [00:03<00:00, 239.42it/s]\n",
      "100%|██████████| 273/273 [00:01<00:00, 139.28it/s]\n"
     ]
    },
    {
     "name": "stdout",
     "output_type": "stream",
     "text": [
      "Epoch: 82, Loss: 0.5424935817718506, Accuracy: 0.5\n"
     ]
    },
    {
     "name": "stderr",
     "output_type": "stream",
     "text": [
      "100%|██████████| 820/820 [00:03<00:00, 247.68it/s]\n",
      "100%|██████████| 273/273 [00:01<00:00, 138.43it/s]\n"
     ]
    },
    {
     "name": "stdout",
     "output_type": "stream",
     "text": [
      "Epoch: 83, Loss: 0.5541529059410095, Accuracy: 0.75\n"
     ]
    },
    {
     "name": "stderr",
     "output_type": "stream",
     "text": [
      "100%|██████████| 820/820 [00:03<00:00, 242.31it/s]\n",
      "100%|██████████| 273/273 [00:01<00:00, 138.75it/s]\n"
     ]
    },
    {
     "name": "stdout",
     "output_type": "stream",
     "text": [
      "Epoch: 84, Loss: 0.970479428768158, Accuracy: 0.25\n"
     ]
    },
    {
     "name": "stderr",
     "output_type": "stream",
     "text": [
      "100%|██████████| 820/820 [00:03<00:00, 243.93it/s]\n",
      "100%|██████████| 273/273 [00:01<00:00, 139.39it/s]\n"
     ]
    },
    {
     "name": "stdout",
     "output_type": "stream",
     "text": [
      "Epoch: 85, Loss: 0.8691214919090271, Accuracy: 0.5\n"
     ]
    },
    {
     "name": "stderr",
     "output_type": "stream",
     "text": [
      "100%|██████████| 820/820 [00:03<00:00, 243.06it/s]\n",
      "100%|██████████| 273/273 [00:01<00:00, 139.34it/s]\n"
     ]
    },
    {
     "name": "stdout",
     "output_type": "stream",
     "text": [
      "Epoch: 86, Loss: 0.7120658755302429, Accuracy: 0.5\n"
     ]
    },
    {
     "name": "stderr",
     "output_type": "stream",
     "text": [
      "100%|██████████| 820/820 [00:03<00:00, 239.08it/s]\n",
      "100%|██████████| 273/273 [00:01<00:00, 140.04it/s]\n"
     ]
    },
    {
     "name": "stdout",
     "output_type": "stream",
     "text": [
      "Epoch: 87, Loss: 0.7550681233406067, Accuracy: 0.5\n"
     ]
    },
    {
     "name": "stderr",
     "output_type": "stream",
     "text": [
      "100%|██████████| 820/820 [00:03<00:00, 244.28it/s]\n",
      "100%|██████████| 273/273 [00:01<00:00, 140.18it/s]\n"
     ]
    },
    {
     "name": "stdout",
     "output_type": "stream",
     "text": [
      "Epoch: 88, Loss: 0.3736882507801056, Accuracy: 1.0\n"
     ]
    },
    {
     "name": "stderr",
     "output_type": "stream",
     "text": [
      "100%|██████████| 820/820 [00:03<00:00, 250.36it/s]\n",
      "100%|██████████| 273/273 [00:02<00:00, 135.77it/s]\n"
     ]
    },
    {
     "name": "stdout",
     "output_type": "stream",
     "text": [
      "Epoch: 89, Loss: 0.972701907157898, Accuracy: 0.5\n"
     ]
    },
    {
     "name": "stderr",
     "output_type": "stream",
     "text": [
      "100%|██████████| 820/820 [00:03<00:00, 233.20it/s]\n",
      "100%|██████████| 273/273 [00:01<00:00, 136.60it/s]\n"
     ]
    },
    {
     "name": "stdout",
     "output_type": "stream",
     "text": [
      "Epoch: 90, Loss: 0.5963806509971619, Accuracy: 0.75\n"
     ]
    },
    {
     "name": "stderr",
     "output_type": "stream",
     "text": [
      "100%|██████████| 820/820 [00:03<00:00, 239.97it/s]\n",
      "100%|██████████| 273/273 [00:01<00:00, 139.20it/s]\n"
     ]
    },
    {
     "name": "stdout",
     "output_type": "stream",
     "text": [
      "Epoch: 91, Loss: 0.7963022589683533, Accuracy: 0.5\n"
     ]
    },
    {
     "name": "stderr",
     "output_type": "stream",
     "text": [
      "100%|██████████| 820/820 [00:03<00:00, 245.04it/s]\n",
      "100%|██████████| 273/273 [00:01<00:00, 139.58it/s]\n"
     ]
    },
    {
     "name": "stdout",
     "output_type": "stream",
     "text": [
      "Epoch: 92, Loss: 0.7742530107498169, Accuracy: 0.25\n"
     ]
    },
    {
     "name": "stderr",
     "output_type": "stream",
     "text": [
      "100%|██████████| 820/820 [00:03<00:00, 248.99it/s]\n",
      "100%|██████████| 273/273 [00:01<00:00, 138.69it/s]\n"
     ]
    },
    {
     "name": "stdout",
     "output_type": "stream",
     "text": [
      "Epoch: 93, Loss: 0.6609680652618408, Accuracy: 0.75\n"
     ]
    },
    {
     "name": "stderr",
     "output_type": "stream",
     "text": [
      "100%|██████████| 820/820 [00:03<00:00, 233.89it/s]\n",
      "100%|██████████| 273/273 [00:01<00:00, 140.03it/s]\n"
     ]
    },
    {
     "name": "stdout",
     "output_type": "stream",
     "text": [
      "Epoch: 94, Loss: 0.2724512815475464, Accuracy: 1.0\n"
     ]
    },
    {
     "name": "stderr",
     "output_type": "stream",
     "text": [
      "100%|██████████| 820/820 [00:03<00:00, 247.95it/s]\n",
      "100%|██████████| 273/273 [00:01<00:00, 138.91it/s]\n"
     ]
    },
    {
     "name": "stdout",
     "output_type": "stream",
     "text": [
      "Epoch: 95, Loss: 0.7981418371200562, Accuracy: 0.75\n"
     ]
    },
    {
     "name": "stderr",
     "output_type": "stream",
     "text": [
      "100%|██████████| 820/820 [00:03<00:00, 249.70it/s]\n",
      "100%|██████████| 273/273 [00:01<00:00, 138.86it/s]\n"
     ]
    },
    {
     "name": "stdout",
     "output_type": "stream",
     "text": [
      "Epoch: 96, Loss: 0.42218559980392456, Accuracy: 1.0\n"
     ]
    },
    {
     "name": "stderr",
     "output_type": "stream",
     "text": [
      "100%|██████████| 820/820 [00:03<00:00, 237.41it/s]\n",
      "100%|██████████| 273/273 [00:02<00:00, 133.76it/s]\n"
     ]
    },
    {
     "name": "stdout",
     "output_type": "stream",
     "text": [
      "Epoch: 97, Loss: 0.7995657920837402, Accuracy: 0.5\n"
     ]
    },
    {
     "name": "stderr",
     "output_type": "stream",
     "text": [
      "100%|██████████| 820/820 [00:03<00:00, 232.22it/s]\n",
      "100%|██████████| 273/273 [00:01<00:00, 138.85it/s]\n"
     ]
    },
    {
     "name": "stdout",
     "output_type": "stream",
     "text": [
      "Epoch: 98, Loss: 0.6439730525016785, Accuracy: 0.5\n"
     ]
    },
    {
     "name": "stderr",
     "output_type": "stream",
     "text": [
      "100%|██████████| 820/820 [00:03<00:00, 243.88it/s]\n",
      "100%|██████████| 273/273 [00:01<00:00, 138.35it/s]\n"
     ]
    },
    {
     "name": "stdout",
     "output_type": "stream",
     "text": [
      "Epoch: 99, Loss: 0.5126151442527771, Accuracy: 0.75\n"
     ]
    },
    {
     "name": "stderr",
     "output_type": "stream",
     "text": [
      "100%|██████████| 274/274 [00:01<00:00, 139.12it/s]\n"
     ]
    }
   ],
   "source": [
    "import tqdm\n",
    "# 模型训练\n",
    "for epoch in range(100):\n",
    "    # 训练\n",
    "    model.train()\n",
    "    for batch_x, batch_y in tqdm.tqdm(train_dataloader):\n",
    "        outputs = model(batch_x.float().unsqueeze(1))\n",
    "        loss = criterion(outputs, batch_y.long())\n",
    "        optimizer.zero_grad()\n",
    "        loss.backward()\n",
    "        optimizer.step()\n",
    "\n",
    "    # 验证\n",
    "    model.eval()\n",
    "    with torch.no_grad():\n",
    "        for batch_x, batch_y in tqdm.tqdm(val_dataloader):\n",
    "            outputs = model(batch_x.float().unsqueeze(1))\n",
    "            loss = criterion(outputs, batch_y.long())\n",
    "            accuracy = (outputs.argmax(dim=1) == batch_y).float().mean()\n",
    "\n",
    "    print(f\"Epoch: {epoch}, Loss: {loss}, Accuracy: {accuracy}\")\n",
    "\n",
    "# 模型评估\n",
    "model.eval()\n",
    "with torch.no_grad():\n",
    "    for batch_x, batch_y in tqdm.tqdm(test_dataloader):\n",
    "        outputs = model(batch_x.float().unsqueeze(1))\n",
    "        loss = criterion(outputs, batch_y.long())\n",
    "        accuracy = (outputs.argmax(dim=1) == batch_y).float().mean()\n"
   ]
  },
  {
   "cell_type": "code",
   "execution_count": null,
   "metadata": {},
   "outputs": [],
   "source": []
  }
 ],
 "metadata": {
  "kernelspec": {
   "display_name": "torch107",
   "language": "python",
   "name": "python3"
  },
  "language_info": {
   "codemirror_mode": {
    "name": "ipython",
    "version": 3
   },
   "file_extension": ".py",
   "mimetype": "text/x-python",
   "name": "python",
   "nbconvert_exporter": "python",
   "pygments_lexer": "ipython3",
   "version": "3.9.0"
  }
 },
 "nbformat": 4,
 "nbformat_minor": 2
}
